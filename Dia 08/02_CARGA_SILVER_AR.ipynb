{
  "nbformat": 4,
  "nbformat_minor": 2,
  "metadata": {
    "kernelspec": {
      "name": "synapse_pyspark",
      "display_name": "Synapse PySpark"
    },
    "language_info": {
      "name": "python"
    },
    "description": null,
    "save_output": true,
    "synapse_widget": {
      "version": "0.1",
      "state": {}
    }
  },
  "cells": [
    {
      "cell_type": "markdown",
      "metadata": {
        "nteract": {
          "transient": {
            "deleting": false
          }
        }
      },
      "source": [
        "#### Ler dataframe clientes"
      ]
    },
    {
      "cell_type": "code",
      "execution_count": 3,
      "outputs": [
        {
          "output_type": "display_data",
          "data": {
            "application/vnd.livy.statement-meta+json": {
              "spark_pool": "poolspark1",
              "session_id": "19",
              "statement_id": 4,
              "state": "finished",
              "livy_statement_state": "available",
              "queued_time": "2022-09-23T15:56:26.1662278Z",
              "session_start_time": null,
              "execution_start_time": "2022-09-23T15:56:30.7517675Z",
              "execution_finish_time": "2022-09-23T15:57:06.5052034Z",
              "spark_jobs": null
            },
            "text/plain": "StatementMeta(poolspark1, 19, 4, Finished, Available)"
          },
          "metadata": {}
        }
      ],
      "metadata": {
        "microsoft": {
          "language": "python"
        }
      },
      "source": [
        "%%pyspark\r\n",
        "dfcliente = spark.read.load('abfss://treinamento@adlstrn001.dfs.core.windows.net/bronze/cliente/*.parquet', format='parquet')"
      ]
    },
    {
      "cell_type": "markdown",
      "metadata": {
        "nteract": {
          "transient": {
            "deleting": false
          }
        }
      },
      "source": [
        "#### Gravar parquet Silver"
      ]
    },
    {
      "cell_type": "code",
      "execution_count": 4,
      "outputs": [
        {
          "output_type": "display_data",
          "data": {
            "application/vnd.livy.statement-meta+json": {
              "spark_pool": "poolspark1",
              "session_id": "19",
              "statement_id": 5,
              "state": "finished",
              "livy_statement_state": "available",
              "queued_time": "2022-09-23T15:57:12.6090454Z",
              "session_start_time": null,
              "execution_start_time": "2022-09-23T15:57:12.7002936Z",
              "execution_finish_time": "2022-09-23T15:57:19.4509339Z",
              "spark_jobs": null
            },
            "text/plain": "StatementMeta(poolspark1, 19, 5, Finished, Available)"
          },
          "metadata": {}
        }
      ],
      "metadata": {
        "jupyter": {
          "source_hidden": false,
          "outputs_hidden": false
        },
        "nteract": {
          "transient": {
            "deleting": false
          }
        },
        "microsoft": {
          "language": "python"
        }
      },
      "source": [
        "%%pyspark\r\n",
        "dfcliente.write.mode('overwrite').parquet(\"/silver/cliente\")"
      ]
    },
    {
      "cell_type": "markdown",
      "metadata": {
        "nteract": {
          "transient": {
            "deleting": false
          }
        }
      },
      "source": [
        "#### Limpar Cache"
      ]
    },
    {
      "cell_type": "code",
      "execution_count": 5,
      "outputs": [
        {
          "output_type": "display_data",
          "data": {
            "application/vnd.livy.statement-meta+json": {
              "spark_pool": "poolspark1",
              "session_id": "19",
              "statement_id": 6,
              "state": "finished",
              "livy_statement_state": "available",
              "queued_time": "2022-09-23T15:57:21.5090166Z",
              "session_start_time": null,
              "execution_start_time": "2022-09-23T15:57:21.6356073Z",
              "execution_finish_time": "2022-09-23T15:57:21.8378054Z",
              "spark_jobs": null
            },
            "text/plain": "StatementMeta(poolspark1, 19, 6, Finished, Available)"
          },
          "metadata": {}
        },
        {
          "output_type": "execute_result",
          "data": {
            "text/plain": "DataFrame[ID_CLIENTE: int, NOME_CLIENTE: string, ENDERECO: string, NUMERO: string, ID_CIDADE: int, CEP: string]"
          },
          "execution_count": 16,
          "metadata": {}
        }
      ],
      "metadata": {
        "jupyter": {
          "source_hidden": false,
          "outputs_hidden": false
        },
        "nteract": {
          "transient": {
            "deleting": false
          }
        }
      },
      "source": [
        "#LIMPAR CACHE\r\n",
        "dfcliente.unpersist()\r\n",
        ""
      ]
    },
    {
      "cell_type": "markdown",
      "metadata": {
        "nteract": {
          "transient": {
            "deleting": false
          }
        }
      },
      "source": [
        "#### carga todos DF"
      ]
    },
    {
      "cell_type": "code",
      "execution_count": 6,
      "outputs": [
        {
          "output_type": "display_data",
          "data": {
            "application/vnd.livy.statement-meta+json": {
              "spark_pool": "poolspark1",
              "session_id": "19",
              "statement_id": 7,
              "state": "finished",
              "livy_statement_state": "available",
              "queued_time": "2022-09-23T15:57:25.2060889Z",
              "session_start_time": null,
              "execution_start_time": "2022-09-23T15:57:25.3278284Z",
              "execution_finish_time": "2022-09-23T15:57:28.0743499Z",
              "spark_jobs": null
            },
            "text/plain": "StatementMeta(poolspark1, 19, 7, Finished, Available)"
          },
          "metadata": {}
        }
      ],
      "metadata": {
        "jupyter": {
          "source_hidden": false,
          "outputs_hidden": false
        },
        "nteract": {
          "transient": {
            "deleting": false
          }
        },
        "microsoft": {
          "language": "python"
        }
      },
      "source": [
        "%%pyspark\r\n",
        "dfcategoria = spark.read.load('abfss://treinamento@adlstrn001.dfs.core.windows.net/bronze/categoria/*.parquet', format='parquet')\r\n",
        "dfcidade = spark.read.load('abfss://treinamento@adlstrn001.dfs.core.windows.net/bronze/cidade/*.parquet', format='parquet')\r\n",
        "dfproduto = spark.read.load('abfss://treinamento@adlstrn001.dfs.core.windows.net/bronze/produtos/*.parquet', format='parquet')\r\n",
        "dfunidade = spark.read.load('abfss://treinamento@adlstrn001.dfs.core.windows.net/bronze/unidade/*.parquet', format='parquet')\r\n",
        "dfvendedores = spark.read.load('abfss://treinamento@adlstrn001.dfs.core.windows.net/bronze/vendedores/*.parquet', format='parquet')\r\n",
        "dfvendas = spark.read.load('abfss://treinamento@adlstrn001.dfs.core.windows.net/bronze/vendas/*.parquet', format='parquet')\r\n",
        "dfvendas_itens = spark.read.load('abfss://treinamento@adlstrn001.dfs.core.windows.net/bronze/vendas_itens/*.parquet', format='parquet')"
      ]
    },
    {
      "cell_type": "markdown",
      "metadata": {
        "nteract": {
          "transient": {
            "deleting": false
          }
        }
      },
      "source": [
        "#### Carga Silver Parquet"
      ]
    },
    {
      "cell_type": "code",
      "execution_count": 7,
      "outputs": [
        {
          "output_type": "display_data",
          "data": {
            "application/vnd.livy.statement-meta+json": {
              "spark_pool": "poolspark1",
              "session_id": "19",
              "statement_id": 8,
              "state": "finished",
              "livy_statement_state": "available",
              "queued_time": "2022-09-23T15:57:35.0370546Z",
              "session_start_time": null,
              "execution_start_time": "2022-09-23T15:57:35.1343029Z",
              "execution_finish_time": "2022-09-23T15:57:58.0455855Z",
              "spark_jobs": null
            },
            "text/plain": "StatementMeta(poolspark1, 19, 8, Finished, Available)"
          },
          "metadata": {}
        }
      ],
      "metadata": {
        "jupyter": {
          "source_hidden": false,
          "outputs_hidden": false
        },
        "nteract": {
          "transient": {
            "deleting": false
          }
        },
        "microsoft": {
          "language": "python"
        }
      },
      "source": [
        "%%pyspark\r\n",
        "##Escreve e salva arquivo Parquet\r\n",
        "dfcategoria.write.mode('overwrite').parquet(\"/silver/categoria\")\r\n",
        "dfcidade.write.mode('overwrite').parquet(\"/silver/cidade\")\r\n",
        "dfproduto.write.mode('overwrite').parquet(\"/silver/produtos\")\r\n",
        "dfunidade.write.mode('overwrite').parquet(\"/silver/unidade\")\r\n",
        "dfvendedores.write.mode('overwrite').parquet(\"/silver/vendedores\")\r\n",
        "dfvendas.write.mode('overwrite').parquet(\"/silver/vendas\")\r\n",
        "dfvendas_itens.write.mode('overwrite').parquet(\"/silver/venda_itens\")"
      ]
    },
    {
      "cell_type": "code",
      "execution_count": 8,
      "outputs": [
        {
          "output_type": "display_data",
          "data": {
            "application/vnd.livy.statement-meta+json": {
              "spark_pool": "poolspark1",
              "session_id": "19",
              "statement_id": 9,
              "state": "finished",
              "livy_statement_state": "available",
              "queued_time": "2022-09-23T15:58:01.6148283Z",
              "session_start_time": null,
              "execution_start_time": "2022-09-23T15:58:01.7089822Z",
              "execution_finish_time": "2022-09-23T15:58:01.8458726Z",
              "spark_jobs": null
            },
            "text/plain": "StatementMeta(poolspark1, 19, 9, Finished, Available)"
          },
          "metadata": {}
        },
        {
          "output_type": "execute_result",
          "data": {
            "text/plain": "DataFrame[NUM_VENDA: int, NUM_SEQ: int, ID_PROD: int, QTDE: decimal(10,2), VAL_UNIT: decimal(10,2), VAL_TOTAL: decimal(10,2)]"
          },
          "execution_count": 25,
          "metadata": {}
        }
      ],
      "metadata": {
        "jupyter": {
          "source_hidden": false,
          "outputs_hidden": false
        },
        "nteract": {
          "transient": {
            "deleting": false
          }
        }
      },
      "source": [
        "#LIMPAR CACHE\r\n",
        "dfcategoria.unpersist()\r\n",
        "dfcidade.unpersist()\r\n",
        "dfproduto.unpersist()\r\n",
        "dfunidade.unpersist()\r\n",
        "dfvendedores.unpersist()\r\n",
        "dfvendas.unpersist()\r\n",
        "dfcliente.unpersist()\r\n",
        "dfvendas_itens.unpersist()\r\n",
        ""
      ]
    }
  ]
}