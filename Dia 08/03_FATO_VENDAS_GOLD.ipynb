{
  "nbformat": 4,
  "nbformat_minor": 2,
  "metadata": {
    "kernelspec": {
      "name": "synapse_pyspark",
      "display_name": "Synapse PySpark"
    },
    "language_info": {
      "name": "python"
    },
    "description": null,
    "save_output": true,
    "synapse_widget": {
      "version": "0.1",
      "state": {}
    }
  },
  "cells": [
    {
      "cell_type": "markdown",
      "metadata": {
        "nteract": {
          "transient": {
            "deleting": false
          }
        }
      },
      "source": [
        "#### CARGA FATO PARQUET"
      ]
    },
    {
      "cell_type": "code",
      "execution_count": 2,
      "outputs": [
        {
          "output_type": "display_data",
          "data": {
            "application/vnd.livy.statement-meta+json": {
              "spark_pool": "poolspark1",
              "session_id": "16",
              "statement_id": 2,
              "state": "finished",
              "livy_statement_state": "available",
              "queued_time": "2022-09-23T14:38:38.5729117Z",
              "session_start_time": "2022-09-23T14:38:38.6189989Z",
              "execution_start_time": "2022-09-23T14:40:12.0025716Z",
              "execution_finish_time": "2022-09-23T14:40:34.8613714Z",
              "spark_jobs": null
            },
            "text/plain": "StatementMeta(poolspark1, 16, 2, Finished, Available)"
          },
          "metadata": {}
        }
      ],
      "metadata": {},
      "source": [
        "dfvendas = spark.read.load('abfss://treinamento@adlstrn001.dfs.core.windows.net/silver/vendas/*.parquet', format='parquet')\r\n",
        "dfvenda_itens = spark.read.load('abfss://treinamento@adlstrn001.dfs.core.windows.net/silver/venda_itens/*.parquet', format='parquet')"
      ]
    },
    {
      "cell_type": "markdown",
      "metadata": {
        "nteract": {
          "transient": {
            "deleting": false
          }
        }
      },
      "source": [
        "#### JOIN DF VENDAS COM VENDAS ITENS"
      ]
    },
    {
      "cell_type": "code",
      "execution_count": 3,
      "outputs": [
        {
          "output_type": "display_data",
          "data": {
            "application/vnd.livy.statement-meta+json": {
              "spark_pool": "poolspark1",
              "session_id": "16",
              "statement_id": 3,
              "state": "finished",
              "livy_statement_state": "available",
              "queued_time": "2022-09-23T14:40:40.8481153Z",
              "session_start_time": null,
              "execution_start_time": "2022-09-23T14:40:40.9708743Z",
              "execution_finish_time": "2022-09-23T14:40:41.4545482Z",
              "spark_jobs": null
            },
            "text/plain": "StatementMeta(poolspark1, 16, 3, Finished, Available)"
          },
          "metadata": {}
        }
      ],
      "metadata": {
        "jupyter": {
          "source_hidden": false,
          "outputs_hidden": false
        },
        "nteract": {
          "transient": {
            "deleting": false
          }
        },
        "microsoft": {
          "language": "python"
        }
      },
      "source": [
        "%%pyspark \r\n",
        "from pyspark.sql.functions import to_timestamp,date_format\r\n",
        "from pyspark.sql.functions import col\r\n",
        "df_join_vendas = dfvendas.join(dfvenda_itens, dfvendas.NUM_VENDA == dfvenda_itens.NUM_VENDA)\\\r\n",
        ".select(dfvendas.NUM_VENDA,\\\r\n",
        "dfvendas.DATA_VENDA,\\\r\n",
        "dfvendas.ID_CLIENTE,\\\r\n",
        "dfvendas.STATUS,\\\r\n",
        "dfvendas.ID_VENDEDOR,\\\r\n",
        "dfvenda_itens.NUM_SEQ,\\\r\n",
        "dfvenda_itens.ID_PROD,\\\r\n",
        "dfvenda_itens.QTDE,\\\r\n",
        "dfvenda_itens.VAL_UNIT,\\\r\n",
        "dfvenda_itens.VAL_TOTAL,\\\r\n",
        "#,date_format('DATA_VENDA','yyyyMMDD').cast('Int').alias('DATA_VENDA_KEY')\\\r\n",
        "#,date_format('DATA_VENDA','yyyyMMdd').cast('String').alias('DATA_VENDA_CHAVE')\\\r\n",
        "date_format('DATA_VENDA','yyyyMMdd').cast('Int').alias('DATA_VENDA_CHAVE'),\\\r\n",
        "date_format('DATA_VENDA','yyyy').alias('ANO'),\\\r\n",
        "date_format('DATA_VENDA','MM').alias('MES')\\\r\n",
        "#date_format('DATA_VENDA','dd').alias('DIA'),\\\r\n",
        ")\r\n",
        "#df_join_vendas.show(10)\r\n",
        ""
      ]
    },
    {
      "cell_type": "code",
      "execution_count": 4,
      "outputs": [
        {
          "output_type": "display_data",
          "data": {
            "application/vnd.livy.statement-meta+json": {
              "spark_pool": "poolspark1",
              "session_id": "16",
              "statement_id": 4,
              "state": "finished",
              "livy_statement_state": "available",
              "queued_time": "2022-09-23T14:40:48.1005411Z",
              "session_start_time": null,
              "execution_start_time": "2022-09-23T14:40:48.2024198Z",
              "execution_finish_time": "2022-09-23T14:40:48.3625975Z",
              "spark_jobs": null
            },
            "text/plain": "StatementMeta(poolspark1, 16, 4, Finished, Available)"
          },
          "metadata": {}
        },
        {
          "output_type": "execute_result",
          "data": {
            "text/plain": "StructType(List(StructField(NUM_VENDA,IntegerType,true),StructField(DATA_VENDA,TimestampType,true),StructField(ID_CLIENTE,IntegerType,true),StructField(STATUS,StringType,true),StructField(ID_VENDEDOR,IntegerType,true),StructField(NUM_SEQ,IntegerType,true),StructField(ID_PROD,IntegerType,true),StructField(QTDE,DecimalType(10,2),true),StructField(VAL_UNIT,DecimalType(10,2),true),StructField(VAL_TOTAL,DecimalType(10,2),true),StructField(DATA_VENDA_CHAVE,IntegerType,true),StructField(ANO,StringType,true),StructField(MES,StringType,true)))"
          },
          "execution_count": 13,
          "metadata": {}
        }
      ],
      "metadata": {
        "jupyter": {
          "source_hidden": false,
          "outputs_hidden": false
        },
        "nteract": {
          "transient": {
            "deleting": false
          }
        }
      },
      "source": [
        "#verificando schema dp dataframe\r\n",
        "df_join_vendas.schema"
      ]
    },
    {
      "cell_type": "markdown",
      "metadata": {
        "nteract": {
          "transient": {
            "deleting": false
          }
        }
      },
      "source": [
        "#### FILTRAR VENDAS STATUS \"N\""
      ]
    },
    {
      "cell_type": "code",
      "execution_count": 5,
      "outputs": [
        {
          "output_type": "display_data",
          "data": {
            "application/vnd.livy.statement-meta+json": {
              "spark_pool": "poolspark1",
              "session_id": "16",
              "statement_id": 5,
              "state": "finished",
              "livy_statement_state": "available",
              "queued_time": "2022-09-23T14:40:57.8129646Z",
              "session_start_time": null,
              "execution_start_time": "2022-09-23T14:40:57.9050977Z",
              "execution_finish_time": "2022-09-23T14:41:18.8681696Z",
              "spark_jobs": null
            },
            "text/plain": "StatementMeta(poolspark1, 16, 5, Finished, Available)"
          },
          "metadata": {}
        },
        {
          "output_type": "stream",
          "name": "stdout",
          "text": [
            "+---------+-------------------+----------+------+-----------+-------+-------+-----+--------+---------+----------------+----+---+\n|NUM_VENDA|         DATA_VENDA|ID_CLIENTE|STATUS|ID_VENDEDOR|NUM_SEQ|ID_PROD| QTDE|VAL_UNIT|VAL_TOTAL|DATA_VENDA_CHAVE| ANO|MES|\n+---------+-------------------+----------+------+-----------+-------+-------+-----+--------+---------+----------------+----+---+\n|        1|2017-01-02 00:00:00|         5|     N|          3|      1|      8|11.00| 3700.00| 40700.00|        20170102|2017| 01|\n|        2|2017-01-03 00:00:00|         5|     N|          1|      1|      7|10.00| 2500.00| 25000.00|        20170103|2017| 01|\n|        2|2017-01-03 00:00:00|         5|     N|          1|      2|      4|15.00|  600.00|  9000.00|        20170103|2017| 01|\n|        2|2017-01-03 00:00:00|         5|     N|          1|      3|     13| 7.00|   90.00|   630.00|        20170103|2017| 01|\n|        2|2017-01-03 00:00:00|         5|     N|          1|      4|      3|11.00|  700.00|  7700.00|        20170103|2017| 01|\n|        2|2017-01-03 00:00:00|         5|     N|          1|      5|     11| 6.00|  120.00|   720.00|        20170103|2017| 01|\n|        2|2017-01-03 00:00:00|         5|     N|          1|      6|      1| 2.00|  350.00|   700.00|        20170103|2017| 01|\n|        2|2017-01-03 00:00:00|         5|     N|          1|      7|     14|15.00| 1500.00| 22500.00|        20170103|2017| 01|\n|        3|2017-01-04 00:00:00|        10|     N|          4|      1|      7|10.00| 2500.00| 25000.00|        20170104|2017| 01|\n|        3|2017-01-04 00:00:00|        10|     N|          4|      2|     13|12.00|   90.00|  1080.00|        20170104|2017| 01|\n+---------+-------------------+----------+------+-----------+-------+-------+-----+--------+---------+----------------+----+---+\nonly showing top 10 rows\n\n"
          ]
        }
      ],
      "metadata": {
        "jupyter": {
          "source_hidden": false,
          "outputs_hidden": false
        },
        "nteract": {
          "transient": {
            "deleting": false
          }
        },
        "microsoft": {
          "language": "python"
        }
      },
      "source": [
        "%%pyspark\r\n",
        "join_filtrado = df_join_vendas.filter(df_join_vendas.STATUS=='N')\r\n",
        "join_filtrado.show(10)"
      ]
    },
    {
      "cell_type": "markdown",
      "metadata": {
        "nteract": {
          "transient": {
            "deleting": false
          }
        }
      },
      "source": [
        "#### SALVAR ARQUIVO PARQUER PARTICIONADO ANO/MES"
      ]
    },
    {
      "cell_type": "code",
      "execution_count": 6,
      "outputs": [
        {
          "output_type": "display_data",
          "data": {
            "application/vnd.livy.statement-meta+json": {
              "spark_pool": "poolspark1",
              "session_id": "16",
              "statement_id": 6,
              "state": "finished",
              "livy_statement_state": "available",
              "queued_time": "2022-09-23T14:41:15.3804407Z",
              "session_start_time": null,
              "execution_start_time": "2022-09-23T14:41:18.9654967Z",
              "execution_finish_time": "2022-09-23T14:41:35.656074Z",
              "spark_jobs": null
            },
            "text/plain": "StatementMeta(poolspark1, 16, 6, Finished, Available)"
          },
          "metadata": {}
        }
      ],
      "metadata": {
        "jupyter": {
          "source_hidden": false,
          "outputs_hidden": false
        },
        "nteract": {
          "transient": {
            "deleting": false
          }
        },
        "microsoft": {
          "language": "python"
        }
      },
      "source": [
        "%%pyspark\r\n",
        "##Escreve e salva arquivo Parquet particionado por ano\r\n",
        "join_filtrado.write.partitionBy('ANO','MES').mode('overwrite').parquet(\"/gold/fato_vendas\")"
      ]
    },
    {
      "cell_type": "markdown",
      "metadata": {
        "nteract": {
          "transient": {
            "deleting": false
          }
        }
      },
      "source": [
        "#### SALVAR COMO TABELA SPARK"
      ]
    },
    {
      "cell_type": "code",
      "execution_count": 34,
      "outputs": [
        {
          "output_type": "display_data",
          "data": {
            "application/vnd.livy.statement-meta+json": {
              "spark_pool": "poolspark1",
              "session_id": "5",
              "statement_id": 30,
              "state": "finished",
              "livy_statement_state": "available",
              "queued_time": "2022-09-22T15:48:05.6362651Z",
              "session_start_time": null,
              "execution_start_time": "2022-09-22T15:48:05.8233903Z",
              "execution_finish_time": "2022-09-22T15:48:16.3403438Z",
              "spark_jobs": null
            },
            "text/plain": "StatementMeta(poolspark1, 5, 30, Finished, Available)"
          },
          "metadata": {}
        }
      ],
      "metadata": {
        "jupyter": {
          "source_hidden": false,
          "outputs_hidden": false
        },
        "nteract": {
          "transient": {
            "deleting": false
          }
        },
        "microsoft": {
          "language": "python"
        }
      },
      "source": [
        "%%pyspark\r\n",
        "join_filtrado.write.mode(\"overwrite\").saveAsTable(\"ldw.FATO_VENDA\")"
      ]
    }
  ]
}