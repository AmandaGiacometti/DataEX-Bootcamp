{
  "nbformat": 4,
  "nbformat_minor": 2,
  "metadata": {
    "kernelspec": {
      "name": "synapse_pyspark",
      "display_name": "Synapse PySpark"
    },
    "language_info": {
      "name": "python"
    },
    "description": null,
    "save_output": true,
    "synapse_widget": {
      "version": "0.1",
      "state": {
        "b2598c6f-1868-49fa-bbf5-982471d858ea": {
          "type": "Synapse.DataFrame",
          "sync_state": {
            "table": {
              "rows": [
                {
                  "0": "1",
                  "1": "Informática"
                },
                {
                  "0": "2",
                  "1": "TV´s"
                },
                {
                  "0": "3",
                  "1": "Celulares"
                },
                {
                  "0": "4",
                  "1": "Eletrodomesticos"
                },
                {
                  "0": "5",
                  "1": "Utilidades do Lar"
                }
              ],
              "schema": [
                {
                  "key": "0",
                  "name": "ID_CATEGORIA",
                  "type": "int"
                },
                {
                  "key": "1",
                  "name": "NOME_CATEGORIA",
                  "type": "string"
                }
              ],
              "truncated": false
            },
            "isSummary": false,
            "language": "scala"
          },
          "persist_state": {
            "view": {
              "type": "details",
              "tableOptions": {},
              "chartOptions": {
                "chartType": "line",
                "aggregationType": "sum",
                "categoryFieldKeys": [
                  "1"
                ],
                "seriesFieldKeys": [
                  "0"
                ],
                "isStacked": false
              }
            }
          }
        }
      }
    }
  },
  "cells": [
    {
      "cell_type": "markdown",
      "metadata": {
        "nteract": {
          "transient": {
            "deleting": false
          }
        }
      },
      "source": [
        "#### CRIA DATAFRAME CATEGORIA\r\n",
        "ITEM 1\r\n",
        "ITEM 2"
      ]
    },
    {
      "cell_type": "code",
      "execution_count": 1,
      "outputs": [
        {
          "output_type": "display_data",
          "data": {
            "application/vnd.livy.statement-meta+json": {
              "spark_pool": "poolspark1",
              "session_id": "0",
              "statement_id": 2,
              "state": "finished",
              "livy_statement_state": "available",
              "queued_time": "2022-09-22T13:57:41.6786775Z",
              "session_start_time": "2022-09-22T13:57:41.7187451Z",
              "execution_start_time": "2022-09-22T14:01:18.9597303Z",
              "execution_finish_time": "2022-09-22T14:01:54.9980708Z",
              "spark_jobs": null
            },
            "text/plain": "StatementMeta(poolspark1, 0, 2, Finished, Available)"
          },
          "metadata": {}
        },
        {
          "output_type": "display_data",
          "data": {
            "application/vnd.synapse.widget-view+json": {
              "widget_id": "b2598c6f-1868-49fa-bbf5-982471d858ea",
              "widget_type": "Synapse.DataFrame"
            },
            "text/plain": "SynapseWidget(Synapse.DataFrame, b2598c6f-1868-49fa-bbf5-982471d858ea)"
          },
          "metadata": {}
        }
      ],
      "metadata": {
        "microsoft": {
          "language": "python"
        },
        "collapsed": false
      },
      "source": [
        "%%pyspark\r\n",
        "dfcategoria = spark.read.load('abfss://treinamento@adlstrn001.dfs.core.windows.net/bronze/categoria/*.parquet', format='parquet')\r\n",
        "display(dfcategoria.limit(10))"
      ]
    },
    {
      "cell_type": "markdown",
      "metadata": {
        "nteract": {
          "transient": {
            "deleting": false
          }
        }
      },
      "source": [
        "#### CRIA UMA TABELA NO SPARK"
      ]
    },
    {
      "cell_type": "code",
      "execution_count": 2,
      "outputs": [
        {
          "output_type": "display_data",
          "data": {
            "application/vnd.livy.statement-meta+json": {
              "spark_pool": "poolspark1",
              "session_id": "0",
              "statement_id": 3,
              "state": "finished",
              "livy_statement_state": "available",
              "queued_time": "2022-09-22T14:04:58.3635054Z",
              "session_start_time": null,
              "execution_start_time": "2022-09-22T14:04:58.6404152Z",
              "execution_finish_time": "2022-09-22T14:05:19.7133973Z",
              "spark_jobs": null
            },
            "text/plain": "StatementMeta(poolspark1, 0, 3, Finished, Available)"
          },
          "metadata": {}
        }
      ],
      "metadata": {
        "jupyter": {
          "source_hidden": false,
          "outputs_hidden": false
        },
        "nteract": {
          "transient": {
            "deleting": false
          }
        },
        "microsoft": {
          "language": "python"
        }
      },
      "source": [
        "%%pyspark\r\n",
        "dfcategoria.write.mode(\"overwrite\").saveAsTable(\"default.D_CATEGORIA_AR\")\r\n",
        "df = spark.sql(\"SELECT * FROM `default`.`D_CATEGORIA_AR`\")"
      ]
    },
    {
      "cell_type": "markdown",
      "metadata": {
        "nteract": {
          "transient": {
            "deleting": false
          }
        }
      },
      "source": [
        "#### SEELECIONA TABELA CRIA NO SPARK"
      ]
    },
    {
      "cell_type": "code",
      "execution_count": 3,
      "outputs": [
        {
          "output_type": "display_data",
          "data": {
            "application/vnd.livy.statement-meta+json": {
              "spark_pool": "poolspark1",
              "session_id": "0",
              "statement_id": 4,
              "state": "finished",
              "livy_statement_state": "available",
              "queued_time": "2022-09-22T14:12:12.9927914Z",
              "session_start_time": null,
              "execution_start_time": "2022-09-22T14:12:13.2334159Z",
              "execution_finish_time": "2022-09-22T14:12:15.0105101Z",
              "spark_jobs": null
            },
            "text/plain": "StatementMeta(poolspark1, 0, 4, Finished, Available)"
          },
          "metadata": {}
        },
        {
          "output_type": "execute_result",
          "data": {
            "application/vnd.synapse.sparksql-result+json": {
              "schema": {
                "type": "struct",
                "fields": [
                  {
                    "name": "ID_CATEGORIA",
                    "type": "integer",
                    "nullable": true,
                    "metadata": {}
                  },
                  {
                    "name": "NOME_CATEGORIA",
                    "type": "string",
                    "nullable": true,
                    "metadata": {}
                  }
                ]
              },
              "data": [
                [
                  1,
                  "Informática"
                ],
                [
                  2,
                  "TV´s"
                ],
                [
                  3,
                  "Celulares"
                ],
                [
                  4,
                  "Eletrodomesticos"
                ],
                [
                  5,
                  "Utilidades do Lar"
                ]
              ]
            },
            "text/plain": "<Spark SQL result set with 5 rows and 2 fields>"
          },
          "execution_count": 3,
          "metadata": {}
        }
      ],
      "metadata": {
        "jupyter": {
          "source_hidden": false,
          "outputs_hidden": false
        },
        "nteract": {
          "transient": {
            "deleting": false
          }
        },
        "microsoft": {
          "language": "sparksql"
        },
        "collapsed": false
      },
      "source": [
        "%%sql\r\n",
        "SELECT * FROM `default`.`D_CATEGORIA_AR`"
      ]
    },
    {
      "cell_type": "markdown",
      "metadata": {
        "nteract": {
          "transient": {
            "deleting": false
          }
        }
      },
      "source": [
        "Teste gravar sql database"
      ]
    },
    {
      "cell_type": "code",
      "execution_count": 5,
      "outputs": [
        {
          "output_type": "display_data",
          "data": {
            "application/vnd.livy.statement-meta+json": {
              "spark_pool": "poolspark1",
              "session_id": "0",
              "statement_id": 6,
              "state": "finished",
              "livy_statement_state": "available",
              "queued_time": "2022-09-22T14:18:35.4284432Z",
              "session_start_time": null,
              "execution_start_time": "2022-09-22T14:18:35.5420493Z",
              "execution_finish_time": "2022-09-22T14:18:38.8967339Z",
              "spark_jobs": null
            },
            "text/plain": "StatementMeta(poolspark1, 0, 6, Finished, Available)"
          },
          "metadata": {}
        }
      ],
      "metadata": {
        "jupyter": {
          "source_hidden": false,
          "outputs_hidden": false
        },
        "nteract": {
          "transient": {
            "deleting": false
          }
        },
        "microsoft": {
          "language": "python"
        }
      },
      "source": [
        "%%pyspark\r\n",
        "dfcategoria.write.mode(\"overwrite\").saveAsTable(\"ldw.D_CATEGORIA_AR\")\r\n",
        "df = spark.sql(\"SELECT * FROM `ldw`.`D_CATEGORIA_AR`\")"
      ]
    }
  ]
}